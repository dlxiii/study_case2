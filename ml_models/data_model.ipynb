{
 "cells": [
  {
   "cell_type": "code",
   "execution_count": 1,
   "id": "3772055e",
   "metadata": {},
   "outputs": [],
   "source": [
    "%matplotlib inline\n",
    "\n",
    "import pandas as pd\n",
    "import numpy as np\n",
    "import seaborn as sns\n",
    "import matplotlib.pyplot as plt\n",
    "\n",
    "pd.set_option(\"display.max_columns\", 144)"
   ]
  },
  {
   "cell_type": "markdown",
   "id": "9dd7777a",
   "metadata": {},
   "source": [
    "# Make dataset from simulation results\n",
    "\n",
    "There are several groups of simulation results about water age:\n",
    "\n",
    "* reclamation: \"cSS01_MM_LL.csv\"\n",
    "\n",
    "* rehabitation: \"cSS03_MM_LL.csv\"\n",
    "\n",
    "* SS: 00, 03, 10, 20, representing different SLR scenarios: 0, 0.3, 1.0, and 2.0 meters.\n",
    "\n",
    "* MM: from 00 to 12, representing month, 00 is annual average.\n",
    "\n",
    "* LL: from 00 to 20, representing sigma layer of water.\n",
    "\n",
    "Therefore, a new dataset will be made in the following format:\n",
    "\n",
    "|      Column \t| Description                                                                    \t|\n",
    "|------------:\t|--------------------------------------------------------------------------------\t|\n",
    "|       `lat` \t| Lat of points in Tokyo Bay                                                                            \t|\n",
    "|       `lon` \t| Lon of points in Tokyo Bay                                                                         \t|\n",
    "|   `sigma_z` \t| Sigma Z of points, from 0 to 20, representing sea surface to bottom \t|\n",
    "|   `slr_hgt` \t| SLR hight, from 0 to 2.0 meters, we have 0, 0.2, 1.0, and 2.0 data.            \t|\n",
    "|  `nbs_case` \t| NbS case, we have two case, 0 for reclamation case, 1 for rehabitation case.   \t|\n",
    "| `water_age` \t| The estimated water age by coastal circulation model                           \t|"
   ]
  },
  {
   "cell_type": "code",
   "execution_count": 2,
   "id": "a8251c52",
   "metadata": {},
   "outputs": [],
   "source": [
    "data = {'lat': [], \n",
    "        'lon': [], \n",
    "        'sigma_z': [], \n",
    "        'slr_hgt': [], \n",
    "        'nbs_case': [], \n",
    "        'water_age': []} "
   ]
  },
  {
   "cell_type": "code",
   "execution_count": 3,
   "id": "06055947",
   "metadata": {},
   "outputs": [],
   "source": [
    "for ss in [0,3,10,20]:\n",
    "    for nbs in [1,3]:\n",
    "        for ll in [var for var in range(1,21)]:\n",
    "            filepath = '../csv_files_ml/c{0:02d}{1:02d}_m00_{2:02d}.csv'.format(ss,nbs,ll)\n",
    "            # print(filepath)\n",
    "            df = pd.read_csv(filepath,names=['lon','lat','water_age'],\n",
    "                             header=None,index_col=False)\n",
    "            df['water_age'] = pd.to_numeric(df['water_age'],errors='coerce')\n",
    "            data['lat'] += df['lat'].values.tolist()\n",
    "            data['lon'] += df['lon'].values.tolist()\n",
    "            data['water_age'] += df['water_age'].values.tolist()\n",
    "            data['sigma_z'] += [ll]*df.shape[0]\n",
    "            data['slr_hgt'] += [ss/10]*df.shape[0]\n",
    "            data['nbs_case'] += [nbs]*df.shape[0]"
   ]
  },
  {
   "cell_type": "code",
   "execution_count": 4,
   "id": "c5780aa3",
   "metadata": {},
   "outputs": [],
   "source": [
    "data = pd.DataFrame.from_dict(data)"
   ]
  },
  {
   "cell_type": "code",
   "execution_count": 5,
   "id": "0460e92c",
   "metadata": {},
   "outputs": [
    {
     "data": {
      "text/html": [
       "<div>\n",
       "<style scoped>\n",
       "    .dataframe tbody tr th:only-of-type {\n",
       "        vertical-align: middle;\n",
       "    }\n",
       "\n",
       "    .dataframe tbody tr th {\n",
       "        vertical-align: top;\n",
       "    }\n",
       "\n",
       "    .dataframe thead th {\n",
       "        text-align: right;\n",
       "    }\n",
       "</style>\n",
       "<table border=\"1\" class=\"dataframe\">\n",
       "  <thead>\n",
       "    <tr style=\"text-align: right;\">\n",
       "      <th></th>\n",
       "      <th>lat</th>\n",
       "      <th>lon</th>\n",
       "      <th>sigma_z</th>\n",
       "      <th>slr_hgt</th>\n",
       "      <th>nbs_case</th>\n",
       "      <th>water_age</th>\n",
       "    </tr>\n",
       "  </thead>\n",
       "  <tbody>\n",
       "    <tr>\n",
       "      <th>0</th>\n",
       "      <td>34.976126</td>\n",
       "      <td>139.766126</td>\n",
       "      <td>1</td>\n",
       "      <td>0.0</td>\n",
       "      <td>1</td>\n",
       "      <td>62.52</td>\n",
       "    </tr>\n",
       "    <tr>\n",
       "      <th>1</th>\n",
       "      <td>34.976126</td>\n",
       "      <td>139.770631</td>\n",
       "      <td>1</td>\n",
       "      <td>0.0</td>\n",
       "      <td>1</td>\n",
       "      <td>66.29</td>\n",
       "    </tr>\n",
       "    <tr>\n",
       "      <th>2</th>\n",
       "      <td>34.976126</td>\n",
       "      <td>139.775135</td>\n",
       "      <td>1</td>\n",
       "      <td>0.0</td>\n",
       "      <td>1</td>\n",
       "      <td>69.46</td>\n",
       "    </tr>\n",
       "    <tr>\n",
       "      <th>3</th>\n",
       "      <td>34.976126</td>\n",
       "      <td>139.779640</td>\n",
       "      <td>1</td>\n",
       "      <td>0.0</td>\n",
       "      <td>1</td>\n",
       "      <td>72.80</td>\n",
       "    </tr>\n",
       "    <tr>\n",
       "      <th>4</th>\n",
       "      <td>34.976126</td>\n",
       "      <td>139.784144</td>\n",
       "      <td>1</td>\n",
       "      <td>0.0</td>\n",
       "      <td>1</td>\n",
       "      <td>76.97</td>\n",
       "    </tr>\n",
       "  </tbody>\n",
       "</table>\n",
       "</div>"
      ],
      "text/plain": [
       "         lat         lon  sigma_z  slr_hgt  nbs_case  water_age\n",
       "0  34.976126  139.766126        1      0.0         1      62.52\n",
       "1  34.976126  139.770631        1      0.0         1      66.29\n",
       "2  34.976126  139.775135        1      0.0         1      69.46\n",
       "3  34.976126  139.779640        1      0.0         1      72.80\n",
       "4  34.976126  139.784144        1      0.0         1      76.97"
      ]
     },
     "execution_count": 5,
     "metadata": {},
     "output_type": "execute_result"
    }
   ],
   "source": [
    "data.head()"
   ]
  },
  {
   "cell_type": "code",
   "execution_count": 6,
   "id": "8efb3d85",
   "metadata": {},
   "outputs": [
    {
     "data": {
      "text/plain": [
       "(1081120, 6)"
      ]
     },
     "execution_count": 6,
     "metadata": {},
     "output_type": "execute_result"
    }
   ],
   "source": [
    "data.shape"
   ]
  },
  {
   "cell_type": "code",
   "execution_count": 7,
   "id": "9c8503b3",
   "metadata": {},
   "outputs": [
    {
     "data": {
      "text/html": [
       "<div>\n",
       "<style scoped>\n",
       "    .dataframe tbody tr th:only-of-type {\n",
       "        vertical-align: middle;\n",
       "    }\n",
       "\n",
       "    .dataframe tbody tr th {\n",
       "        vertical-align: top;\n",
       "    }\n",
       "\n",
       "    .dataframe thead th {\n",
       "        text-align: right;\n",
       "    }\n",
       "</style>\n",
       "<table border=\"1\" class=\"dataframe\">\n",
       "  <thead>\n",
       "    <tr style=\"text-align: right;\">\n",
       "      <th></th>\n",
       "      <th>lat</th>\n",
       "      <th>lon</th>\n",
       "      <th>sigma_z</th>\n",
       "      <th>slr_hgt</th>\n",
       "      <th>nbs_case</th>\n",
       "      <th>water_age</th>\n",
       "    </tr>\n",
       "  </thead>\n",
       "  <tbody>\n",
       "    <tr>\n",
       "      <th>count</th>\n",
       "      <td>1.081120e+06</td>\n",
       "      <td>1.081120e+06</td>\n",
       "      <td>1.081120e+06</td>\n",
       "      <td>1.081120e+06</td>\n",
       "      <td>1081120.0</td>\n",
       "      <td>1.057520e+06</td>\n",
       "    </tr>\n",
       "    <tr>\n",
       "      <th>mean</th>\n",
       "      <td>3.538271e+01</td>\n",
       "      <td>1.398274e+02</td>\n",
       "      <td>1.050000e+01</td>\n",
       "      <td>8.250000e-01</td>\n",
       "      <td>2.0</td>\n",
       "      <td>5.081996e+01</td>\n",
       "    </tr>\n",
       "    <tr>\n",
       "      <th>std</th>\n",
       "      <td>1.842621e-01</td>\n",
       "      <td>1.028810e-01</td>\n",
       "      <td>5.766284e+00</td>\n",
       "      <td>7.693345e-01</td>\n",
       "      <td>1.0</td>\n",
       "      <td>1.591054e+01</td>\n",
       "    </tr>\n",
       "    <tr>\n",
       "      <th>min</th>\n",
       "      <td>3.497613e+01</td>\n",
       "      <td>1.396265e+02</td>\n",
       "      <td>1.000000e+00</td>\n",
       "      <td>0.000000e+00</td>\n",
       "      <td>1.0</td>\n",
       "      <td>-4.624000e+02</td>\n",
       "    </tr>\n",
       "    <tr>\n",
       "      <th>25%</th>\n",
       "      <td>3.523739e+01</td>\n",
       "      <td>1.397526e+02</td>\n",
       "      <td>5.750000e+00</td>\n",
       "      <td>2.250000e-01</td>\n",
       "      <td>1.0</td>\n",
       "      <td>4.298000e+01</td>\n",
       "    </tr>\n",
       "    <tr>\n",
       "      <th>50%</th>\n",
       "      <td>3.541757e+01</td>\n",
       "      <td>1.398067e+02</td>\n",
       "      <td>1.050000e+01</td>\n",
       "      <td>6.500000e-01</td>\n",
       "      <td>2.0</td>\n",
       "      <td>5.066000e+01</td>\n",
       "    </tr>\n",
       "    <tr>\n",
       "      <th>75%</th>\n",
       "      <td>3.553469e+01</td>\n",
       "      <td>1.398923e+02</td>\n",
       "      <td>1.525000e+01</td>\n",
       "      <td>1.250000e+00</td>\n",
       "      <td>3.0</td>\n",
       "      <td>5.970000e+01</td>\n",
       "    </tr>\n",
       "    <tr>\n",
       "      <th>max</th>\n",
       "      <td>3.569685e+01</td>\n",
       "      <td>1.401130e+02</td>\n",
       "      <td>2.000000e+01</td>\n",
       "      <td>2.000000e+00</td>\n",
       "      <td>3.0</td>\n",
       "      <td>3.859800e+02</td>\n",
       "    </tr>\n",
       "  </tbody>\n",
       "</table>\n",
       "</div>"
      ],
      "text/plain": [
       "                lat           lon       sigma_z       slr_hgt   nbs_case  \\\n",
       "count  1.081120e+06  1.081120e+06  1.081120e+06  1.081120e+06  1081120.0   \n",
       "mean   3.538271e+01  1.398274e+02  1.050000e+01  8.250000e-01        2.0   \n",
       "std    1.842621e-01  1.028810e-01  5.766284e+00  7.693345e-01        1.0   \n",
       "min    3.497613e+01  1.396265e+02  1.000000e+00  0.000000e+00        1.0   \n",
       "25%    3.523739e+01  1.397526e+02  5.750000e+00  2.250000e-01        1.0   \n",
       "50%    3.541757e+01  1.398067e+02  1.050000e+01  6.500000e-01        2.0   \n",
       "75%    3.553469e+01  1.398923e+02  1.525000e+01  1.250000e+00        3.0   \n",
       "max    3.569685e+01  1.401130e+02  2.000000e+01  2.000000e+00        3.0   \n",
       "\n",
       "          water_age  \n",
       "count  1.057520e+06  \n",
       "mean   5.081996e+01  \n",
       "std    1.591054e+01  \n",
       "min   -4.624000e+02  \n",
       "25%    4.298000e+01  \n",
       "50%    5.066000e+01  \n",
       "75%    5.970000e+01  \n",
       "max    3.859800e+02  "
      ]
     },
     "execution_count": 7,
     "metadata": {},
     "output_type": "execute_result"
    }
   ],
   "source": [
    "data.describe()"
   ]
  },
  {
   "cell_type": "code",
   "execution_count": 8,
   "id": "a1dc0a98",
   "metadata": {},
   "outputs": [],
   "source": [
    "data.drop(data[data['water_age'] < 0].index, inplace = True)"
   ]
  },
  {
   "cell_type": "code",
   "execution_count": 9,
   "id": "e1387a07",
   "metadata": {},
   "outputs": [],
   "source": [
    "data.drop(data[data['water_age'] > 250].index, inplace = True)"
   ]
  },
  {
   "cell_type": "code",
   "execution_count": 10,
   "id": "fdf0bd81",
   "metadata": {},
   "outputs": [
    {
     "data": {
      "text/plain": [
       "lat              0\n",
       "lon              0\n",
       "sigma_z          0\n",
       "slr_hgt          0\n",
       "nbs_case         0\n",
       "water_age    23600\n",
       "dtype: int64"
      ]
     },
     "execution_count": 10,
     "metadata": {},
     "output_type": "execute_result"
    }
   ],
   "source": [
    "data.isnull().sum()"
   ]
  },
  {
   "cell_type": "code",
   "execution_count": 11,
   "id": "dfad86dd",
   "metadata": {},
   "outputs": [
    {
     "data": {
      "text/html": [
       "<div>\n",
       "<style scoped>\n",
       "    .dataframe tbody tr th:only-of-type {\n",
       "        vertical-align: middle;\n",
       "    }\n",
       "\n",
       "    .dataframe tbody tr th {\n",
       "        vertical-align: top;\n",
       "    }\n",
       "\n",
       "    .dataframe thead th {\n",
       "        text-align: right;\n",
       "    }\n",
       "</style>\n",
       "<table border=\"1\" class=\"dataframe\">\n",
       "  <thead>\n",
       "    <tr style=\"text-align: right;\">\n",
       "      <th></th>\n",
       "      <th>lat</th>\n",
       "      <th>lon</th>\n",
       "      <th>sigma_z</th>\n",
       "      <th>slr_hgt</th>\n",
       "      <th>nbs_case</th>\n",
       "      <th>water_age</th>\n",
       "    </tr>\n",
       "  </thead>\n",
       "  <tbody>\n",
       "    <tr>\n",
       "      <th>3939</th>\n",
       "      <td>35.462613</td>\n",
       "      <td>139.707568</td>\n",
       "      <td>1</td>\n",
       "      <td>0.0</td>\n",
       "      <td>1</td>\n",
       "      <td>NaN</td>\n",
       "    </tr>\n",
       "    <tr>\n",
       "      <th>3940</th>\n",
       "      <td>35.462613</td>\n",
       "      <td>139.712072</td>\n",
       "      <td>1</td>\n",
       "      <td>0.0</td>\n",
       "      <td>1</td>\n",
       "      <td>NaN</td>\n",
       "    </tr>\n",
       "    <tr>\n",
       "      <th>3941</th>\n",
       "      <td>35.462613</td>\n",
       "      <td>139.716577</td>\n",
       "      <td>1</td>\n",
       "      <td>0.0</td>\n",
       "      <td>1</td>\n",
       "      <td>NaN</td>\n",
       "    </tr>\n",
       "    <tr>\n",
       "      <th>3942</th>\n",
       "      <td>35.462613</td>\n",
       "      <td>139.721081</td>\n",
       "      <td>1</td>\n",
       "      <td>0.0</td>\n",
       "      <td>1</td>\n",
       "      <td>NaN</td>\n",
       "    </tr>\n",
       "    <tr>\n",
       "      <th>4008</th>\n",
       "      <td>35.467117</td>\n",
       "      <td>139.707568</td>\n",
       "      <td>1</td>\n",
       "      <td>0.0</td>\n",
       "      <td>1</td>\n",
       "      <td>NaN</td>\n",
       "    </tr>\n",
       "  </tbody>\n",
       "</table>\n",
       "</div>"
      ],
      "text/plain": [
       "            lat         lon  sigma_z  slr_hgt  nbs_case  water_age\n",
       "3939  35.462613  139.707568        1      0.0         1        NaN\n",
       "3940  35.462613  139.712072        1      0.0         1        NaN\n",
       "3941  35.462613  139.716577        1      0.0         1        NaN\n",
       "3942  35.462613  139.721081        1      0.0         1        NaN\n",
       "4008  35.467117  139.707568        1      0.0         1        NaN"
      ]
     },
     "execution_count": 11,
     "metadata": {},
     "output_type": "execute_result"
    }
   ],
   "source": [
    "data[data.isna().any(axis=1)].head()"
   ]
  },
  {
   "cell_type": "code",
   "execution_count": 12,
   "id": "c82ac55e",
   "metadata": {},
   "outputs": [],
   "source": [
    "data.dropna(subset = [\"water_age\"], inplace=True)"
   ]
  },
  {
   "cell_type": "code",
   "execution_count": 13,
   "id": "18501bcb",
   "metadata": {},
   "outputs": [
    {
     "data": {
      "text/plain": [
       "1     52772\n",
       "10    52772\n",
       "18    52772\n",
       "17    52772\n",
       "15    52772\n",
       "14    52772\n",
       "13    52772\n",
       "12    52772\n",
       "11    52772\n",
       "9     52772\n",
       "8     52772\n",
       "7     52772\n",
       "6     52772\n",
       "5     52772\n",
       "4     52772\n",
       "3     52772\n",
       "2     52771\n",
       "16    52770\n",
       "20    52766\n",
       "19    52764\n",
       "Name: sigma_z, dtype: int64"
      ]
     },
     "execution_count": 13,
     "metadata": {},
     "output_type": "execute_result"
    }
   ],
   "source": [
    "data['sigma_z'].value_counts()"
   ]
  },
  {
   "cell_type": "code",
   "execution_count": 14,
   "id": "14ffd310",
   "metadata": {},
   "outputs": [
    {
     "data": {
      "text/plain": [
       "1.0    263858\n",
       "0.0    263857\n",
       "0.3    263857\n",
       "2.0    263851\n",
       "Name: slr_hgt, dtype: int64"
      ]
     },
     "execution_count": 14,
     "metadata": {},
     "output_type": "execute_result"
    }
   ],
   "source": [
    "data['slr_hgt'].value_counts()"
   ]
  },
  {
   "cell_type": "code",
   "execution_count": 15,
   "id": "1a6bf35b",
   "metadata": {},
   "outputs": [
    {
     "data": {
      "text/plain": [
       "3    539514\n",
       "1    515909\n",
       "Name: nbs_case, dtype: int64"
      ]
     },
     "execution_count": 15,
     "metadata": {},
     "output_type": "execute_result"
    }
   ],
   "source": [
    "data['nbs_case'].value_counts()"
   ]
  },
  {
   "cell_type": "code",
   "execution_count": 16,
   "id": "670815fa",
   "metadata": {},
   "outputs": [
    {
     "data": {
      "text/plain": [
       "35.476126    11678\n",
       "35.575225    11600\n",
       "35.449099    11360\n",
       "35.566216    11360\n",
       "35.471622    11358\n",
       "             ...  \n",
       "35.678829      960\n",
       "35.687838      800\n",
       "35.683333      480\n",
       "35.692342      480\n",
       "35.696847      160\n",
       "Name: lat, Length: 161, dtype: int64"
      ]
     },
     "execution_count": 16,
     "metadata": {},
     "output_type": "execute_result"
    }
   ],
   "source": [
    "data['lat'].value_counts()"
   ]
  },
  {
   "cell_type": "code",
   "execution_count": 17,
   "id": "60958126",
   "metadata": {},
   "outputs": [
    {
     "data": {
      "text/plain": [
       "139.788649    22079\n",
       "139.784144    21840\n",
       "139.793153    21760\n",
       "139.775135    21680\n",
       "139.797658    21680\n",
       "              ...  \n",
       "140.099459      640\n",
       "140.108468      640\n",
       "140.112973      480\n",
       "140.103964      480\n",
       "139.626486      320\n",
       "Name: lon, Length: 109, dtype: int64"
      ]
     },
     "execution_count": 17,
     "metadata": {},
     "output_type": "execute_result"
    }
   ],
   "source": [
    "data['lon'].value_counts()"
   ]
  },
  {
   "cell_type": "code",
   "execution_count": 18,
   "id": "4e5de61e",
   "metadata": {},
   "outputs": [],
   "source": [
    "data.to_csv('data.csv',index=False)"
   ]
  },
  {
   "cell_type": "markdown",
   "id": "77153252",
   "metadata": {},
   "source": [
    "# Data visualization\n",
    "\n"
   ]
  },
  {
   "cell_type": "code",
   "execution_count": 19,
   "id": "a79c9f03",
   "metadata": {},
   "outputs": [],
   "source": [
    "df = data.copy()"
   ]
  },
  {
   "cell_type": "code",
   "execution_count": 20,
   "id": "3dc77cf0",
   "metadata": {},
   "outputs": [
    {
     "data": {
      "image/png": "[encoded data removed]",
      "text/plain": [
       "<Figure size 432x288 with 1 Axes>"
      ]
     },
     "metadata": {
      "needs_background": "light"
     },
     "output_type": "display_data"
    }
   ],
   "source": [
    "def plot_histogram(x):\n",
    "    plt.hist(x, color='gray', edgecolor='black', alpha=0.8, range=[0,100])\n",
    "    plt.title(\"Histogram of '{var_name}'\".format(var_name=x.name))\n",
    "    plt.xlabel(\"Value\")\n",
    "    plt.ylabel(\"Frequency\")\n",
    "    plt.show()\n",
    "    \n",
    "# Plot distribution of traget (outcome) variable in the training data\n",
    "plot_histogram(df['water_age'])"
   ]
  },
  {
   "cell_type": "code",
   "execution_count": 21,
   "id": "6aa236f8",
   "metadata": {},
   "outputs": [
    {
     "name": "stderr",
     "output_type": "stream",
     "text": [
      "/Users/yulong/anaconda3/envs/hacker/lib/python3.9/site-packages/seaborn/distributions.py:2551: FutureWarning: `distplot` is a deprecated function and will be removed in a future version. Please adapt your code to use either `displot` (a figure-level function with similar flexibility) or `histplot` (an axes-level function for histograms).\n",
      "  warnings.warn(msg, FutureWarning)\n"
     ]
    },
    {
     "data": {
      "text/plain": [
       "(0.0, 100.0)"
      ]
     },
     "execution_count": 21,
     "metadata": {},
     "output_type": "execute_result"
    },
    {
     "data": {
      "image/png": "[encoded data removed]",
      "text/plain": [
       "<Figure size 432x288 with 1 Axes>"
      ]
     },
     "metadata": {
      "needs_background": "light"
     },
     "output_type": "display_data"
    }
   ],
   "source": [
    "from scipy.stats import norm\n",
    "#plt.figure(figsize=(10,7))\n",
    "ax = sns.distplot(df['water_age'], \n",
    "                  bins = 50, kde=False,fit=norm, \n",
    "                  hist_kws=dict(edgecolor=\"k\", linewidth=1))\n",
    "ax.set_xlim(0,100)"
   ]
  },
  {
   "cell_type": "code",
   "execution_count": 22,
   "id": "bd9d56c2",
   "metadata": {},
   "outputs": [
    {
     "data": {
      "image/png": "[encoded data removed]",
      "text/plain": [
       "<Figure size 432x288 with 2 Axes>"
      ]
     },
     "metadata": {
      "needs_background": "light"
     },
     "output_type": "display_data"
    }
   ],
   "source": [
    "sns.heatmap(df.corr(), cmap='PRGn', annot=True);"
   ]
  },
  {
   "cell_type": "code",
   "execution_count": 23,
   "id": "27ac95b0",
   "metadata": {},
   "outputs": [
    {
     "data": {
      "image/png": "[encoded data removed]",
      "text/plain": [
       "<Figure size 432x288 with 2 Axes>"
      ]
     },
     "metadata": {
      "needs_background": "light"
     },
     "output_type": "display_data"
    }
   ],
   "source": [
    "sns.heatmap(df[['lat','lon','sigma_z','nbs_case','water_age']].corr(), cmap='PRGn', annot=True);"
   ]
  },
  {
   "cell_type": "code",
   "execution_count": null,
   "id": "5b75381f",
   "metadata": {},
   "outputs": [
    {
     "data": {
      "text/plain": [
       "<seaborn.axisgrid.PairGrid at 0x7fd44cb64c40>"
      ]
     },
     "execution_count": 24,
     "metadata": {},
     "output_type": "execute_result"
    }
   ],
   "source": [
    "sns.pairplot(df)"
   ]
  },
  {
   "cell_type": "code",
   "execution_count": null,
   "id": "e62b1b62",
   "metadata": {},
   "outputs": [],
   "source": [
    "sns.pairplot(df[['lat','lon','sigma_z','nbs_case','water_age']])"
   ]
  },
  {
   "cell_type": "code",
   "execution_count": null,
   "id": "8492fa1b",
   "metadata": {},
   "outputs": [],
   "source": [
    "sns.jointplot(x='lat', y='water_age', color= \"green\", data= df)"
   ]
  },
  {
   "cell_type": "code",
   "execution_count": null,
   "id": "595b3b40",
   "metadata": {},
   "outputs": [],
   "source": [
    "sns.jointplot(x='lon', y='water_age', color= \"blue\", data= df)"
   ]
  },
  {
   "cell_type": "code",
   "execution_count": null,
   "id": "eb868c19",
   "metadata": {},
   "outputs": [],
   "source": [
    "sns.jointplot(x='sigma_z', y='water_age', color= \"red\", data= df)"
   ]
  },
  {
   "cell_type": "code",
   "execution_count": null,
   "id": "2c100cf1",
   "metadata": {},
   "outputs": [],
   "source": [
    "#plt.figure(figsize=(20,10))\n",
    "ax = sns.boxplot(x=\"sigma_z\", y=\"water_age\", data=df)"
   ]
  },
  {
   "cell_type": "code",
   "execution_count": null,
   "id": "d0b692c0",
   "metadata": {},
   "outputs": [],
   "source": [
    "ax = sns.boxplot(x=\"nbs_case\", y=\"water_age\", data=df)"
   ]
  },
  {
   "cell_type": "code",
   "execution_count": null,
   "id": "2d8b5d6b",
   "metadata": {},
   "outputs": [],
   "source": [
    "ax = sns.boxplot(x=\"slr_hgt\", y=\"water_age\", data=df)"
   ]
  },
  {
   "cell_type": "markdown",
   "id": "02251f4c",
   "metadata": {},
   "source": [
    "# Random Forest Regression"
   ]
  },
  {
   "cell_type": "code",
   "execution_count": null,
   "id": "876decaf",
   "metadata": {},
   "outputs": [],
   "source": [
    "from sklearn.model_selection import train_test_split\n",
    "from sklearn.ensemble import RandomForestRegressor\n",
    "from sklearn.model_selection import RandomizedSearchCV\n",
    "\n",
    "from pprint import pprint"
   ]
  },
  {
   "cell_type": "code",
   "execution_count": null,
   "id": "6583cc7f",
   "metadata": {},
   "outputs": [],
   "source": [
    "# Create outcome and input DataFrames\n",
    "y = df['water_age'] \n",
    "X = df.drop('water_age', axis=1)\n",
    "y.head()"
   ]
  },
  {
   "cell_type": "code",
   "execution_count": null,
   "id": "1a310e1a",
   "metadata": {},
   "outputs": [],
   "source": [
    "X_train, X_test, Y_train, Y_test= train_test_split(X, y,test_size=0.25, random_state = 42)"
   ]
  },
  {
   "cell_type": "code",
   "execution_count": null,
   "id": "d17b34c0",
   "metadata": {},
   "outputs": [],
   "source": [
    "print('Training Features Shape:', X_train.shape)\n",
    "print('Training Target Shape:', Y_train.shape)\n",
    "print('Testing Features Shape:', X_test.shape)\n",
    "print('Testing Target Shape:', Y_test.shape)"
   ]
  },
  {
   "cell_type": "code",
   "execution_count": null,
   "id": "bd8776f3",
   "metadata": {},
   "outputs": [],
   "source": [
    "rf = RandomForestRegressor(random_state = 42)\n",
    "\n",
    "# Look at parameters used by our current forest\n",
    "print('Parameters currently in use:\\n')\n",
    "pprint(rf.get_params())"
   ]
  },
  {
   "cell_type": "code",
   "execution_count": null,
   "id": "332eb933",
   "metadata": {},
   "outputs": [],
   "source": [
    "'''\n",
    "# Number of trees in random forest\n",
    "n_estimators = [int(x) for x in np.linspace(start = 200, stop = 2000, num = 10)]\n",
    "# Number of features to consider at every split\n",
    "max_features = ['auto', 'sqrt']\n",
    "# Maximum number of levels in tree\n",
    "max_depth = [int(x) for x in np.linspace(10, 110, num = 11)]\n",
    "max_depth.append(None)\n",
    "# Minimum number of samples required to split a node\n",
    "min_samples_split = [2, 5, 10]\n",
    "# Minimum number of samples required at each leaf node\n",
    "min_samples_leaf = [1, 2, 4]\n",
    "# Method of selecting samples for training each tree\n",
    "bootstrap = [True, False]\n",
    "\n",
    "# Create the random grid\n",
    "random_grid = {'n_estimators': n_estimators,\n",
    "               'max_features': max_features,\n",
    "               'max_depth': max_depth,\n",
    "               'min_samples_split': min_samples_split,\n",
    "               'min_samples_leaf': min_samples_leaf,\n",
    "               'bootstrap': bootstrap}\n",
    "\n",
    "pprint(random_grid)\n",
    "'''"
   ]
  },
  {
   "cell_type": "code",
   "execution_count": null,
   "id": "a5d22f0f",
   "metadata": {},
   "outputs": [],
   "source": [
    "'''\n",
    "# Use the random grid to search for best hyperparameters\n",
    "# First create the base model to tune\n",
    "rf = RandomForestRegressor(random_state = 42)\n",
    "# Random search of parameters, using 3 fold cross validation, \n",
    "# search across 100 different combinations, and use all available cores\n",
    "rf_random = RandomizedSearchCV(estimator=rf, param_distributions=random_grid,\n",
    "                              n_iter = 100, scoring='neg_mean_absolute_error', \n",
    "                              cv = 3, verbose=2, random_state=42, n_jobs=-1,\n",
    "                              return_train_score=True)\n",
    "\n",
    "# Fit the random search model\n",
    "rf_random.fit(X_train, Y_train);\n",
    "'''"
   ]
  },
  {
   "cell_type": "code",
   "execution_count": null,
   "id": "34bee044",
   "metadata": {},
   "outputs": [],
   "source": [
    "# rf_random.best_params_"
   ]
  },
  {
   "cell_type": "code",
   "execution_count": null,
   "id": "f0c3f8dd",
   "metadata": {},
   "outputs": [],
   "source": [
    "def evaluate(model, test_features, test_labels):\n",
    "    predictions = model.predict(test_features)\n",
    "    errors = abs(predictions - test_labels)\n",
    "    mape = 100 * np.mean(errors / test_labels)\n",
    "    accuracy = 100 - mape\n",
    "    print('Model Performance')\n",
    "    print('Average Error: {:0.4f} degrees.'.format(np.mean(errors)))\n",
    "    print('Accuracy = {:0.2f}%.'.format(accuracy))\n",
    "    \n",
    "    return accuracy"
   ]
  },
  {
   "cell_type": "code",
   "execution_count": null,
   "id": "87aa816d",
   "metadata": {},
   "outputs": [],
   "source": [
    "base_model = RandomForestRegressor(n_estimators = 10, random_state = 42)\n",
    "base_model.fit(X_train, Y_train)\n",
    "base_accuracy = evaluate(base_model, X_train, Y_train)"
   ]
  }
 ],
 "metadata": {
  "kernelspec": {
   "display_name": "Python 3 (ipykernel)",
   "language": "python",
   "name": "python3"
  },
  "language_info": {
   "codemirror_mode": {
    "name": "ipython",
    "version": 3
   },
   "file_extension": ".py",
   "mimetype": "text/x-python",
   "name": "python",
   "nbconvert_exporter": "python",
   "pygments_lexer": "ipython3",
   "version": "3.9.6"
  }
 },
 "nbformat": 4,
 "nbformat_minor": 5
}
